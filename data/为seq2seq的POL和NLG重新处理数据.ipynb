{
 "cells": [
  {
   "cell_type": "code",
   "execution_count": 1,
   "id": "fb95b648-e1ff-4795-93dc-e4b4adb46684",
   "metadata": {},
   "outputs": [],
   "source": [
    "import pandas as pd\n",
    "import numpy as np\n",
    "from tqdm.auto import tqdm\n",
    "import os,json\n",
    "from pathlib import Path"
   ]
  },
  {
   "cell_type": "code",
   "execution_count": 34,
   "id": "a4edacac-b369-4c81-9d54-cf0641c01211",
   "metadata": {},
   "outputs": [],
   "source": [
    "special_sep_tokens = [\n",
    "    \"[eoaa]\",\n",
    "    \"[eoau]\",\n",
    "    \"[eoda]\",\n",
    "    \"[eodp]\",\n",
    "    \"[eodu]\",\n",
    "    \"[soaa]\",\n",
    "    \"[soau]\",\n",
    "    \"[soda]\",\n",
    "    \"[sodp]\",\n",
    "    \"[sodu]\",\n",
    "]"
   ]
  },
  {
   "cell_type": "code",
   "execution_count": 44,
   "id": "0131dda9-e7b0-41f7-a29d-b857bf1564e7",
   "metadata": {},
   "outputs": [],
   "source": [
    "tasks = [\"NLU\",\"POL\", \"NLG\"]\n",
    "modes = [\"train\", \"dev\", \"test\"]\n",
    "\n",
    "data_parentdir = Path('./data_for_clm/').absolute().resolve()\n",
    "save_parentdir = Path('./data_for_seq2seq/').absolute().resolve()\n",
    "for task in tasks:\n",
    "    datadpath = data_parentdir.joinpath(task)\n",
    "    savedpath = save_parentdir.joinpath(task)\n",
    "    savedpath.mkdir(exist_ok=True)\n",
    "    for mode in modes:\n",
    "        mode_str = \"val\" if mode == \"dev\" else mode\n",
    "        # 处理source文件\n",
    "        sourcefname = f\"{task}/{mode}-{task}.source\"\n",
    "        sourcefpath = data_parentdir.joinpath(sourcefname)\n",
    "        with sourcefpath.open() as f:\n",
    "            source_data = f.read().strip().splitlines()\n",
    "        source_data_new = []\n",
    "        for e in source_data:\n",
    "            words = e.strip().split()\n",
    "            if task != \"POL\": #delete profile\n",
    "                eodp_idx = words.index(\"[eodp]\")\n",
    "                words = words[eodp_idx:]\n",
    "            # words = [w for w in words if w not in special_sep_tokens]\n",
    "            words = [w if w not in special_sep_tokens else \" \" for w in words]\n",
    "            sentence = \" \".join(words).strip()\n",
    "            source_data_new.append(sentence)\n",
    "        \n",
    "        \n",
    "        \n",
    "        \n",
    "        # 处理target文件\n",
    "        targetfname = f\"{task}/{mode}-{task}.target\"\n",
    "        targetfpath = data_parentdir.joinpath(targetfname)\n",
    "        with targetfpath.open() as f:\n",
    "            target_data = f.read().strip().splitlines()\n",
    "        target_data_new = [e.strip().split() for e in target_data]\n",
    "        #target_data_new = [[e2 for e2 in e if e2 not in special_sep_tokens] for e in target_data_new]\n",
    "        target_data_new = [[e2 if e2 not in special_sep_tokens else \" \"for e2 in e ] for e in target_data_new]\n",
    "        target_data_new = [' '.join(e) for e in target_data_new]\n",
    "        target_data_new = [e.strip() for e in target_data_new]\n",
    "        # 去除空行\n",
    "        source_nonempty = []\n",
    "        target_nonempty = []\n",
    "        for sour,targ in zip(source_data_new,target_data_new):\n",
    "            if sour.strip()==\"\" or targ.strip()==\"\":\n",
    "                continue\n",
    "            source_nonempty.append(f\"{sour}\\n\")\n",
    "            target_nonempty.append(f\"{targ}\\n\")\n",
    "        \n",
    "        \n",
    "        sourcesavefname = f\"{mode_str}.source\"\n",
    "        sourcesavefpath = savedpath.joinpath(sourcesavefname)\n",
    "        with sourcesavefpath.open('w') as f:\n",
    "            f.writelines(source_nonempty)\n",
    "        \n",
    "        targetsavefname = f\"{mode_str}.target\"\n",
    "        targetsavefpath = savedpath.joinpath(targetsavefname)\n",
    "        with targetsavefpath.open('w') as f:\n",
    "                f.writelines(target_nonempty)"
   ]
  },
  {
   "cell_type": "code",
   "execution_count": 42,
   "id": "701d2302-a57b-46e6-9b6f-8a0449bf9754",
   "metadata": {},
   "outputs": [
    {
     "data": {
      "text/plain": [
       "['a', 'b', 'b']"
      ]
     },
     "execution_count": 42,
     "metadata": {},
     "output_type": "execute_result"
    }
   ],
   "source": [
    "[\"a\" if x==1 else \"b\" for x in [1,2,3] ]"
   ]
  },
  {
   "cell_type": "code",
   "execution_count": 31,
   "id": "f8206b4f-c6eb-456d-ba22-0a7a9c2f8693",
   "metadata": {},
   "outputs": [
    {
     "data": {
      "text/plain": [
       "'[sodp] [poi_type] gas stations [distance] quickest [traffic_info] avoid all heavy traffic [poi] chevron [greeting] thank [eodp] [soau] [eoau] [soaa] [eoaa] [soda] [poi_type] gas stations [eoda]'"
      ]
     },
     "execution_count": 31,
     "metadata": {},
     "output_type": "execute_result"
    }
   ],
   "source": [
    "source_data[0]"
   ]
  },
  {
   "cell_type": "code",
   "execution_count": 32,
   "id": "bc95df32-00ba-45cb-a6b8-76e43cfe1b40",
   "metadata": {},
   "outputs": [
    {
     "data": {
      "text/plain": [
       "'[sodu] What gas stations are here? [eodu]'"
      ]
     },
     "execution_count": 32,
     "metadata": {},
     "output_type": "execute_result"
    }
   ],
   "source": [
    "target_data[0]"
   ]
  },
  {
   "cell_type": "code",
   "execution_count": null,
   "id": "7a6ed605-e184-4788-b38b-cad9e6c4e9a1",
   "metadata": {},
   "outputs": [],
   "source": []
  }
 ],
 "metadata": {
  "kernelspec": {
   "display_name": "Python 3 (ipykernel)",
   "language": "python",
   "name": "python3"
  },
  "language_info": {
   "codemirror_mode": {
    "name": "ipython",
    "version": 3
   },
   "file_extension": ".py",
   "mimetype": "text/x-python",
   "name": "python",
   "nbconvert_exporter": "python",
   "pygments_lexer": "ipython3",
   "version": "3.9.13"
  }
 },
 "nbformat": 4,
 "nbformat_minor": 5
}
